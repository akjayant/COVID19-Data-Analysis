{
 "cells": [
  {
   "cell_type": "code",
   "execution_count": 2,
   "metadata": {},
   "outputs": [],
   "source": [
    "import pandas as pd\n",
    "import networkx as nx\n",
    "from collections import OrderedDict"
   ]
  },
  {
   "cell_type": "markdown",
   "metadata": {},
   "source": [
    "### COVID 19 INDIA CROWD-SOURCED DATBASE \n",
    "Source - covid19india.org\n",
    "<br>\n",
    "Their data sources - https://telegra.ph/Covid-19-Sources-03-19"
   ]
  },
  {
   "cell_type": "code",
   "execution_count": 3,
   "metadata": {},
   "outputs": [],
   "source": [
    "data = pd.read_csv(\"COVID19_raw_data.csv\")"
   ]
  },
  {
   "cell_type": "code",
   "execution_count": 4,
   "metadata": {},
   "outputs": [],
   "source": [
    "data = data.fillna(\"-1\")"
   ]
  },
  {
   "cell_type": "code",
   "execution_count": 5,
   "metadata": {},
   "outputs": [
    {
     "data": {
      "text/plain": [
       "(23041, 20)"
      ]
     },
     "execution_count": 5,
     "metadata": {},
     "output_type": "execute_result"
    }
   ],
   "source": [
    "data.shape"
   ]
  },
  {
   "cell_type": "code",
   "execution_count": 6,
   "metadata": {},
   "outputs": [],
   "source": [
    "columns = [data.columns]"
   ]
  },
  {
   "cell_type": "code",
   "execution_count": 7,
   "metadata": {},
   "outputs": [
    {
     "data": {
      "text/plain": [
       "[Index(['Patient Number', 'State Patient Number', 'Date Announced',\n",
       "        'Estimated Onset Date', 'Age Bracket', 'Gender', 'Detected City',\n",
       "        'Detected District', 'Detected State', 'State code', 'Current Status',\n",
       "        'Notes', 'Contracted from which Patient (Suspected)', 'Nationality',\n",
       "        'Type of transmission', 'Status Change Date', 'Source_1', 'Source_2',\n",
       "        'Source_3', 'Backup Notes'],\n",
       "       dtype='object')]"
      ]
     },
     "execution_count": 7,
     "metadata": {},
     "output_type": "execute_result"
    }
   ],
   "source": [
    "columns"
   ]
  },
  {
   "cell_type": "code",
   "execution_count": 8,
   "metadata": {},
   "outputs": [],
   "source": [
    "data_filtered = data.loc[(data['Contracted from which Patient (Suspected)']!=\"-1\") ]"
   ]
  },
  {
   "cell_type": "code",
   "execution_count": 9,
   "metadata": {},
   "outputs": [
    {
     "data": {
      "text/plain": [
       "(1534, 20)"
      ]
     },
     "execution_count": 9,
     "metadata": {},
     "output_type": "execute_result"
    }
   ],
   "source": [
    "data_filtered.shape"
   ]
  },
  {
   "cell_type": "code",
   "execution_count": 10,
   "metadata": {},
   "outputs": [],
   "source": [
    "import re\n",
    "def extractor(x):\n",
    "    if x[0]=='E' and x[1]=='0':\n",
    "        return [1670]\n",
    "    elif x[0]=='P':\n",
    "        numbers = re.findall('\\d+',x)\n",
    "        numbers = [int(i) for i in numbers]\n",
    "        if numbers!=None:\n",
    "            return numbers\n",
    "        else:\n",
    "            return []\n",
    "    else:\n",
    "        return []\n",
    "    "
   ]
  },
  {
   "cell_type": "code",
   "execution_count": 11,
   "metadata": {},
   "outputs": [
    {
     "name": "stderr",
     "output_type": "stream",
     "text": [
      "/home/ashish-j/anaconda3/lib/python3.7/site-packages/ipykernel_launcher.py:1: SettingWithCopyWarning: \n",
      "A value is trying to be set on a copy of a slice from a DataFrame.\n",
      "Try using .loc[row_indexer,col_indexer] = value instead\n",
      "\n",
      "See the caveats in the documentation: http://pandas.pydata.org/pandas-docs/stable/indexing.html#indexing-view-versus-copy\n",
      "  \"\"\"Entry point for launching an IPython kernel.\n"
     ]
    }
   ],
   "source": [
    "data_filtered['source_cluster_flag'] = data_filtered['Contracted from which Patient (Suspected)'].apply(lambda x:extractor(x))"
   ]
  },
  {
   "cell_type": "code",
   "execution_count": 12,
   "metadata": {},
   "outputs": [],
   "source": [
    "nodes = list(data_filtered['source_cluster_flag'].index)"
   ]
  },
  {
   "cell_type": "code",
   "execution_count": 13,
   "metadata": {},
   "outputs": [],
   "source": [
    "import numpy as np"
   ]
  },
  {
   "cell_type": "code",
   "execution_count": 14,
   "metadata": {},
   "outputs": [],
   "source": [
    "adjacency_list = {}"
   ]
  },
  {
   "cell_type": "code",
   "execution_count": 15,
   "metadata": {},
   "outputs": [],
   "source": [
    "import matplotlib.pyplot as plt\n",
    "from pyvis.network import Network"
   ]
  },
  {
   "cell_type": "code",
   "execution_count": 16,
   "metadata": {},
   "outputs": [],
   "source": [
    "def build_graph(adjacency_list):\n",
    "    g = nx.from_dict_of_lists(adjacency_list)\n",
    "    g1 = Network(height='1000',width='1000',notebook=True)\n",
    "    options = '''{\n",
    "      \"physics\": {\n",
    "        \"forceAtlas2Based\": {\n",
    "          \"gravitationalConstant\": -547,\n",
    "          \"springLength\": 275,\n",
    "          \"avoidOverlap\": 0.98\n",
    "        },\n",
    "        \"maxVelocity\": 82,\n",
    "        \"minVelocity\": 0.87,\n",
    "        \"solver\": \"forceAtlas2Based\"\n",
    "      }\n",
    "    }'''\n",
    "    g1.set_options(options)\n",
    "    g1.from_nx(g)\n",
    "    return g1"
   ]
  },
  {
   "cell_type": "code",
   "execution_count": 17,
   "metadata": {},
   "outputs": [],
   "source": [
    "def assign_node_color(nodes,color_map,clr):\n",
    "    adjacency_list ={}\n",
    "    color_nodes = OrderedDict()\n",
    "    for i in nodes:\n",
    "        if clr==True:\n",
    "            state = data_filtered['Detected State'][i]\n",
    "            if state in color_map.keys():\n",
    "                adjacency_list[i+1]=data_filtered['source_cluster_flag'][i]\n",
    "                assign_color = color_map[state]\n",
    "                color_nodes[i+1] = assign_color\n",
    "        elif clr==False:\n",
    "            adjacency_list[i+1]=data_filtered['source_cluster_flag'][i]      \n",
    "    return color_nodes,adjacency_list"
   ]
  },
  {
   "cell_type": "code",
   "execution_count": 18,
   "metadata": {},
   "outputs": [],
   "source": [
    "def graph_color(gl,color_nodes,label):\n",
    "    for i in range(len(gl.nodes)):\n",
    "        try:\n",
    "            gl.nodes[i]['color']=color_nodes[int(gl.nodes[i]['title'])]\n",
    "        except:\n",
    "            gl.nodes[i]['color']=\"#ffffff\"\n",
    "    gl.prep_notebook()\n",
    "    gl.show(\"./interactive_graphs/covid_19_\"+str(label)+\".html\")\n",
    "def just_show_graph(gl,label):\n",
    "    gl.show(\"./interactive_graphs/covid_19_\"+str(label)+\".html\")\n",
    "    "
   ]
  },
  {
   "cell_type": "markdown",
   "metadata": {},
   "source": [
    "##### ** Nodes represent 'Patient Number' in data, download covid_19.html for interactive graph. Here central cluster - travelled to Delhi cases.\n"
   ]
  },
  {
   "cell_type": "markdown",
   "metadata": {},
   "source": [
    "### Naive Analysis - 1"
   ]
  },
  {
   "cell_type": "markdown",
   "metadata": {},
   "source": [
    "<img src=\"./images/naive_analysis.jpeg\">\n",
    "We are looking such kind of patterns where recepient becomes source of infection for others as well.\n",
    "for e.g p3 got infected from p1 and then p5 and p6 got infected from p3.\n",
    "<b> Higher the number, longer and denser the chain of such patterns->higher is the chance that community transmission is happening<b> "
   ]
  },
  {
   "cell_type": "code",
   "execution_count": 19,
   "metadata": {},
   "outputs": [],
   "source": [
    "color_map = {}\n",
    "_,adjacency_list_full = assign_node_color(nodes,color_map,False)\n",
    "gr = build_graph(adjacency_list_full)\n",
    "just_show_graph(gr,\"FULL\")"
   ]
  },
  {
   "cell_type": "markdown",
   "metadata": {},
   "source": [
    "#### examples of case described above in data"
   ]
  },
  {
   "cell_type": "markdown",
   "metadata": {},
   "source": [
    "<img src=\"./images/full.png\">"
   ]
  },
  {
   "cell_type": "markdown",
   "metadata": {},
   "source": [
    "### 2) Neighbhouring State Spread Analysis"
   ]
  },
  {
   "cell_type": "markdown",
   "metadata": {},
   "source": [
    "#### 1) Delhi - UP"
   ]
  },
  {
   "cell_type": "code",
   "execution_count": 182,
   "metadata": {},
   "outputs": [],
   "source": [
    "color_map_up_delhi = {'Uttar Pradesh':\"#ff0000\",'Delhi':\"#0000ff\"}\n",
    "color_nodes_up_delhi,adjacency_list_up_delhi = assign_node_color(nodes,color_map_up_delhi,True)\n",
    "gr = build_graph(adjacency_list_up_delhi)\n",
    "graph_color(gr,color_nodes_up_delhi,\"UP_DELHI\")"
   ]
  },
  {
   "cell_type": "markdown",
   "metadata": {},
   "source": [
    "<b> red = UP , blue = Delhi <b>"
   ]
  },
  {
   "cell_type": "markdown",
   "metadata": {},
   "source": [
    "<img src=\"./images/up_delhi.png\">"
   ]
  },
  {
   "cell_type": "markdown",
   "metadata": {},
   "source": [
    "#### 2) Maharshtra - Madhya Pradesh"
   ]
  },
  {
   "cell_type": "code",
   "execution_count": null,
   "metadata": {},
   "outputs": [],
   "source": [
    "color_map_mah_madh = {'Maharashtra':\"#ff0000\",'Madhya Pradesh':\"#0000ff\"}\n",
    "color_nodes_mah_madh,adjacency_list_mah_madh = assign_node_color(nodes,color_map_mah_madh,True)\n",
    "gr = build_graph(adjacency_list_mah_madh)\n",
    "graph_color(gr,color_nodes_mah_madh,\"MAHA_MP\")"
   ]
  },
  {
   "cell_type": "markdown",
   "metadata": {},
   "source": [
    "<b> red = Maharashtra , blue = MP <b>"
   ]
  },
  {
   "cell_type": "markdown",
   "metadata": {},
   "source": [
    "<img src=\"./images/maha_mp.png\">"
   ]
  },
  {
   "cell_type": "markdown",
   "metadata": {},
   "source": [
    "#### 3)Kerala - Tamil Nadu"
   ]
  },
  {
   "cell_type": "code",
   "execution_count": 188,
   "metadata": {},
   "outputs": [],
   "source": [
    "color_map_kl_tam = {'Kerala':\"#ff0000\",'Tamil Nadu':\"#0000ff\"}\n",
    "color_nodes_kl_tam,adjacency_list_kl_tam = assign_node_color(nodes,color_map_kl_tam,True)\n",
    "gr = build_graph(adjacency_list_kl_tam)\n",
    "graph_color(gr,color_nodes_kl_tam,\"KL_TAMIL\")"
   ]
  },
  {
   "cell_type": "markdown",
   "metadata": {},
   "source": [
    "<b> red = Kerala , blue = Tamil Nadu <b>"
   ]
  },
  {
   "cell_type": "markdown",
   "metadata": {},
   "source": [
    "<img src=\"./images/kl_tamil.png\">"
   ]
  },
  {
   "cell_type": "markdown",
   "metadata": {},
   "source": [
    "#### 3) TOP 8 state-wise spread"
   ]
  },
  {
   "cell_type": "code",
   "execution_count": 196,
   "metadata": {},
   "outputs": [],
   "source": [
    "color_map_misc = {\"Kerala\":\"#ff0000\",                #red\n",
    "            \"Tamil Nadu\" : \"#0000ff\",               #blue\n",
    "            \"Maharashtra\" : \"#09d712\",              #bright green\n",
    "            \"Delhi\" : \"#503b3b\",                    #brown\n",
    "            \"Uttar Pradesh\":\"#ff83fa\",               #purple\n",
    "            \"Madhya Pradesh\" : \"#6a8000\",            #brwonish yellow\n",
    "            \"Gujarat\":\"#53544c\",                    #greyish balck\"\n",
    "            \"Rajasthan\":\"#2cdede\",                   #cyan\n",
    "            \"Karnataka\":\"#f2a3c0\"}                   #pink\n",
    "\n",
    "color_nodes_misc,adjacency_list_misc = assign_node_color(nodes,color_map_misc,True)\n",
    "gr = build_graph(adjacency_list_misc)\n",
    "graph_color(gr,color_nodes_misc,\"TOP_8_STATES\")"
   ]
  },
  {
   "cell_type": "markdown",
   "metadata": {},
   "source": [
    "<img src=\"./images/TOP_8.png\">"
   ]
  },
  {
   "cell_type": "code",
   "execution_count": null,
   "metadata": {},
   "outputs": [],
   "source": []
  }
 ],
 "metadata": {
  "kernelspec": {
   "display_name": "Python 3",
   "language": "python",
   "name": "python3"
  },
  "language_info": {
   "codemirror_mode": {
    "name": "ipython",
    "version": 3
   },
   "file_extension": ".py",
   "mimetype": "text/x-python",
   "name": "python",
   "nbconvert_exporter": "python",
   "pygments_lexer": "ipython3",
   "version": "3.7.3"
  }
 },
 "nbformat": 4,
 "nbformat_minor": 2
}
